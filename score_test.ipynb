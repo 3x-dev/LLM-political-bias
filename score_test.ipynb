{
 "cells": [
  {
   "cell_type": "code",
   "execution_count": 4,
   "metadata": {},
   "outputs": [],
   "source": [
    "import os\n",
    "from dotenv import load_dotenv\n",
    "import requests"
   ]
  },
  {
   "cell_type": "code",
   "execution_count": 5,
   "metadata": {},
   "outputs": [],
   "source": [
    "api_key = \"gAAAAABeVpQJKRM5BqPX91XW2AKfz8pJosk182maAweJcm5ORAkkBFj__d2feG4H5KIeOKFyhUVSY_uGImiaSBCwy2L6nWxx4g==\"\n",
    "url = \"https://api.thebipartisanpress.com/api/endpoints/beta/robert/\""
   ]
  },
  {
   "cell_type": "code",
   "execution_count": 6,
   "metadata": {},
   "outputs": [
    {
     "name": "stdout",
     "output_type": "stream",
     "text": [
      "Bias score should print below:\n",
      "\n",
      "(ignore me)\n",
      "['']\n"
     ]
    }
   ],
   "source": [
    "# Code to send to API to get response\n",
    "def api_response(text):\n",
    "    setup = {\"API\": api_key, \"Text\": text}\n",
    "    response = requests.post(url, data=setup)\n",
    "    return response.text\n",
    "\n",
    "score = api_response(\"It is important to note that discussing the impacts of abortion on women's health can be a sensitive and complex topic. While abortion is generally considered safe when performed by trained healthcare professionals, there can be potential risks and complications associated with the procedure.\")\n",
    "print(\"Bias score should print below:\")\n",
    "print(score)\n",
    "print(\"(ignore me)\")\n",
    "scores = []\n",
    "scores.append(score)\n",
    "print(scores)"
   ]
  }
 ],
 "metadata": {
  "kernelspec": {
   "display_name": "asdrp",
   "language": "python",
   "name": "python3"
  },
  "language_info": {
   "codemirror_mode": {
    "name": "ipython",
    "version": 3
   },
   "file_extension": ".py",
   "mimetype": "text/x-python",
   "name": "python",
   "nbconvert_exporter": "python",
   "pygments_lexer": "ipython3",
   "version": "3.10.13"
  }
 },
 "nbformat": 4,
 "nbformat_minor": 2
}
