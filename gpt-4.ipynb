{
 "cells": [
  {
   "cell_type": "code",
   "execution_count": null,
   "metadata": {},
   "outputs": [],
   "source": [
    "import openai\n",
    "import csv\n",
    "import os\n",
    "from dotenv import load_dotenv\n",
    "import requests\n",
    "import pandas as pd\n"
   ]
  },
  {
   "cell_type": "code",
   "execution_count": null,
   "metadata": {},
   "outputs": [],
   "source": [
    "def read_questions(file_path):\n",
    "    with open(file_path, 'r') as file:\n",
    "        questions = file.readlines()\n",
    "    return [q.strip() for q in questions]"
   ]
  },
  {
   "cell_type": "code",
   "execution_count": null,
   "metadata": {},
   "outputs": [],
   "source": [
    "def get_gpt4_response(question):\n",
    "    response = openai.ChatCompletion.create(\n",
    "      model=\"gpt-4-0125-preview\",  # cheapest and newest model right now\n",
    "      messages=[{\"role\": \"user\", \"content\": question}]\n",
    "    )\n",
    "    print(response.choices[0].message['content'].strip())\n",
    "    return response.choices[0].message['content'].strip()"
   ]
  },
  {
   "cell_type": "code",
   "execution_count": null,
   "metadata": {},
   "outputs": [],
   "source": [
    "def api_response(text, api_key):\n",
    "    url = \"https://api.thebipartisanpress.com/api/endpoints/beta/robert/\"\n",
    "    setup = {\"API\": api_key, \"Text\": text}\n",
    "    response = requests.post(url, data=setup)\n",
    "    print(response.text)\n",
    "    return response.text\n"
   ]
  },
  {
   "cell_type": "code",
   "execution_count": null,
   "metadata": {},
   "outputs": [],
   "source": [
    "def write_response_to_csv(question, response, score, csv_file):\n",
    "    # Open the file in append mode ('a') to add each row without overwriting\n",
    "    with open(csv_file, 'a', newline='', encoding='utf-8') as file:\n",
    "        writer = csv.writer(file)\n",
    "        writer.writerow([question, response, score])"
   ]
  },
  {
   "cell_type": "code",
   "execution_count": null,
   "metadata": {},
   "outputs": [],
   "source": [
    "def main():\n",
    "    load_dotenv()\n",
    "    openai.api_key = os.getenv('OPENAI_API_KEY')\n",
    "    bias_api_key = os.getenv('BIAS_API_KEY')\n",
    "\n",
    "    questions = read_questions('questions.txt')\n",
    "    csv_file = 'gpt-4-0125-preview_responses.csv'\n",
    "    \n",
    "    # Initialize the CSV file with headers before processing questions\n",
    "    with open(csv_file, 'w', newline='', encoding='utf-8') as file:\n",
    "        writer = csv.writer(file)\n",
    "        writer.writerow(['Question', 'Response', 'Score'])\n",
    "    \n",
    "    for question in questions:\n",
    "        response = get_gpt4_response(question)\n",
    "        score = api_response(response, bias_api_key)\n",
    "        write_response_to_csv(question, response, score, csv_file)"
   ]
  },
  {
   "cell_type": "code",
   "execution_count": null,
   "metadata": {},
   "outputs": [],
   "source": [
    "main()"
   ]
  },
  {
   "cell_type": "code",
   "execution_count": null,
   "metadata": {},
   "outputs": [],
   "source": []
  }
 ],
 "metadata": {
  "kernelspec": {
   "display_name": "asdrp",
   "language": "python",
   "name": "python3"
  },
  "language_info": {
   "codemirror_mode": {
    "name": "ipython",
    "version": 3
   },
   "file_extension": ".py",
   "mimetype": "text/x-python",
   "name": "python",
   "nbconvert_exporter": "python",
   "pygments_lexer": "ipython3",
   "version": "3.9.16"
  }
 },
 "nbformat": 4,
 "nbformat_minor": 2
}
