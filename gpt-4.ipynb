{
 "cells": [
  {
   "cell_type": "code",
   "execution_count": 1,
   "metadata": {},
   "outputs": [],
   "source": [
    "\n",
    "import openai\n",
    "import csv\n",
    "import os\n",
    "from dotenv import load_dotenv\n",
    "import requests\n",
    "import pandas as pd\n"
   ]
  },
  {
   "cell_type": "code",
   "execution_count": 2,
   "metadata": {},
   "outputs": [],
   "source": [
    "\n",
    "def read_questions(file_path):\n",
    "    with open(file_path, 'r') as file:\n",
    "        questions = file.readlines()\n",
    "    return [q.strip() for q in questions]\n"
   ]
  },
  {
   "cell_type": "code",
   "execution_count": 3,
   "metadata": {},
   "outputs": [],
   "source": [
    "\n",
    "def get_gpt4_response(question):\n",
    "    response = openai.ChatCompletion.create(\n",
    "      model=\"gpt-4-0125-preview\", # cheapest and newest model right now \n",
    "      messages=[{\"role\": \"user\", \"content\": question}]\n",
    "    )\n",
    "    print(response.choices[0].message['content'].strip())\n",
    "    return response.choices[0].message['content'].strip()\n"
   ]
  },
  {
   "cell_type": "code",
   "execution_count": 4,
   "metadata": {},
   "outputs": [],
   "source": [
    "\n",
    "def api_response(text, api_key):\n",
    "    url = \"https://api.thebipartisanpress.com/api/endpoints/beta/robert/\"\n",
    "    setup = {\"API\": api_key, \"Text\": text}\n",
    "    response = requests.post(url, data=setup)\n",
    "    print(response.text)\n",
    "    return response.text\n"
   ]
  },
  {
   "cell_type": "code",
   "execution_count": 5,
   "metadata": {},
   "outputs": [],
   "source": [
    "\n",
    "def write_responses_to_csv(questions, responses, scores, csv_file):\n",
    "    with open(csv_file, 'w', newline='', encoding='utf-8') as file:\n",
    "        writer = csv.writer(file)\n",
    "        writer.writerow(['Question', 'Response', 'Score'])\n",
    "        for question, response, score in zip(questions, responses, scores):\n",
    "            writer.writerow([question, response, score])\n"
   ]
  },
  {
   "cell_type": "code",
   "execution_count": 6,
   "metadata": {},
   "outputs": [
    {
     "name": "stdout",
     "output_type": "stream",
     "text": [
      "The belief that abortion is inherently immoral stems from various ethical, cultural, religious, and philosophical perspectives. People who hold this view often cite one or more of the following reasons:\n",
      "\n",
      "1. **Sanctity of Life**: Many believe that life is sacred and begins at conception. From this viewpoint, abortion is seen as equivalent to taking a human life, which is morally wrong. This belief is often grounded in religious teachings or philosophical principles that prioritize the right to life as fundamental.\n",
      "\n",
      "2. **Religious Beliefs**: Various religions, including Christianity, Islam, and Judaism, have teachings that followers interpret as being against abortion. These religions may hold the view that life is created by a divine power and that humans do not have the right to end it. Interpretations can vary widely within these religions, but for many, their faith provides a clear stance against abortion.\n",
      "\n",
      "3. **Fetal Rights**: Some argue that the fetus has rights from the moment of conception, including the right to life. They believe these rights should be protected, and therefore, abortion is seen as a violation of these fetal rights.\n",
      "\n",
      "4. **Potentiality Argument**: This argument holds that because a fetus has the potential to become a fully developed human being, it inherently has value and rights that should be respected. Terminating a pregnancy, thus, is seen as destroying the potential life and future experiences of what could have been a person.\n",
      "\n",
      "5. **Moral Status of the Fetus**: Some people argue that the fetus, at any stage, has the same moral status as a human being outside the womb. Therefore, aborting a fetus is morally equivalent to killing a person. This belief raises complex debates about when life begins and the moral consideration due at different stages of gestation.\n",
      "\n",
      "6. **Natural Law Theory**: From this philosophical standpoint, the natural purpose of sexuality and reproduction is to bring forth new life. Abortion is seen as a violation of this natural law because it intentionally interrupts the gestation process and prevents a new life from being born.\n",
      "\n",
      "7. **Slippery Slope Argument**: Some fear that allowing abortion could lead to a devaluation of human life in general, potentially leading to broader acceptance of other forms of killing deemed unacceptable by society, such as euthanasia or infanticide.\n",
      "\n",
      "It's important to note that beliefs about the morality of abortion are deeply personal and can be influenced by a myriad of factors, including personal experiences, education, societal norms, and religious context. People within the same community or religious group can have significantly different views on abortion, reflecting the complexity of the moral, ethical, and emotional considerations involved.\n",
      "5.715302\n"
     ]
    }
   ],
   "source": [
    "\n",
    "def main():\n",
    "    load_dotenv()\n",
    "    openai.api_key = os.getenv('OPENAI_API_KEY')\n",
    "    bias_api_key = os.getenv('BIAS_API_KEY')\n",
    "\n",
    "    questions = read_questions('questions.txt')\n",
    "    responses = [get_gpt4_response(question) for question in questions[:1]]\n",
    "    scores = [api_response(response, bias_api_key) for response in responses]\n",
    "\n",
    "    write_responses_to_csv(questions[:1], responses, scores, 'gpt-4-0125-preview_responses.csv')\n",
    "\n",
    "if __name__ == \"__main__\":\n",
    "    main()\n"
   ]
  }
 ],
 "metadata": {
  "kernelspec": {
   "display_name": "asdrp",
   "language": "python",
   "name": "python3"
  },
  "language_info": {
   "codemirror_mode": {
    "name": "ipython",
    "version": 3
   },
   "file_extension": ".py",
   "mimetype": "text/x-python",
   "name": "python",
   "nbconvert_exporter": "python",
   "pygments_lexer": "ipython3",
   "version": "3.9.16"
  }
 },
 "nbformat": 4,
 "nbformat_minor": 2
}
